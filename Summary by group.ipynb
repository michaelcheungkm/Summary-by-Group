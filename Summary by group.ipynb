{
 "cells": [
  {
   "cell_type": "markdown",
   "metadata": {},
   "source": [
    "# Summary by group"
   ]
  },
  {
   "cell_type": "markdown",
   "metadata": {},
   "source": [
    "### The following table records the salary and years of experience of 10 employees."
   ]
  },
  {
   "cell_type": "code",
   "execution_count": 2,
   "metadata": {},
   "outputs": [
    {
     "data": {
      "text/html": [
       "<table>\n",
       "<tbody>\n",
       "<tr><td>Salary</td><td>Years of Experience</td></tr>\n",
       "<tr><td>83000 </td><td>8.7                </td></tr>\n",
       "<tr><td>88000 </td><td>8.1                </td></tr>\n",
       "<tr><td>48000 </td><td>0.7                </td></tr>\n",
       "<tr><td>76000 </td><td>6                  </td></tr>\n",
       "<tr><td>69000 </td><td>6.5                </td></tr>\n",
       "<tr><td>76000 </td><td>7.5                </td></tr>\n",
       "<tr><td>60000 </td><td>2.5                </td></tr>\n",
       "<tr><td>83000 </td><td>10                 </td></tr>\n",
       "<tr><td>48000 </td><td>1.9                </td></tr>\n",
       "<tr><td>63000 </td><td>4.2                </td></tr>\n",
       "</tbody>\n",
       "</table>"
      ],
      "text/plain": [
       "<IPython.core.display.HTML object>"
      ]
     },
     "metadata": {},
     "output_type": "display_data"
    }
   ],
   "source": [
    "from IPython.display import HTML, display\n",
    "import tabulate\n",
    "table = [(\"Salary\",\"Years of Experience\"),(83000, 8.7), (88000, 8.1),\n",
    "(48000, 0.7), (76000, 6),\n",
    "(69000, 6.5), (76000, 7.5),\n",
    "(60000, 2.5), (83000, 10),\n",
    "(48000, 1.9), (63000, 4.2)]\n",
    "display(HTML(tabulate.tabulate(table, tablefmt='html')))"
   ]
  },
  {
   "cell_type": "markdown",
   "metadata": {},
   "source": [
    "### We are going to do the followings:\n",
    "### (i) Scatter plot the salary and years of experience. Do you spot any relationship between the two variables?\n",
    "### (ii) Calculate average salary grouped by year of experience.\n",
    "### (iii) Because the result is not useful, we consider another approach. Group the data according to whether years of experience is less than 2, less than 5 or else.\n",
    "### (iv) Calculate the average salary per grouping in (iii)."
   ]
  },
  {
   "cell_type": "code",
   "execution_count": 3,
   "metadata": {},
   "outputs": [],
   "source": [
    "from matplotlib import pyplot as plt\n",
    "from collections import defaultdict"
   ]
  },
  {
   "cell_type": "code",
   "execution_count": 4,
   "metadata": {},
   "outputs": [],
   "source": [
    "salaries_and_yr_of_exp = [(83000, 8.7), (88000, 8.1),\n",
    "(48000, 0.7), (76000, 6),\n",
    "(69000, 6.5), (76000, 7.5),\n",
    "(60000, 2.5), (83000, 10),\n",
    "(48000, 1.9), (63000, 4.2)]"
   ]
  },
  {
   "cell_type": "code",
   "execution_count": 5,
   "metadata": {},
   "outputs": [
    {
     "data": {
      "text/plain": [
       "Text(0, 0.5, 'Salary')"
      ]
     },
     "execution_count": 5,
     "metadata": {},
     "output_type": "execute_result"
    },
    {
     "data": {
      "image/png": "[encoded data removed]",
      "text/plain": [
       "<Figure size 432x288 with 1 Axes>"
      ]
     },
     "metadata": {
      "needs_background": "light"
     },
     "output_type": "display_data"
    }
   ],
   "source": [
    "fig = plt.figure()\n",
    "ax = fig.add_subplot(1,1,1)\n",
    "plt.scatter([y for x,y in salaries_and_yr_of_exp],[x for x,y in salaries_and_yr_of_exp])\n",
    "plt.xlabel('Year Experience')\n",
    "plt.ylabel('Salary')"
   ]
  },
  {
   "cell_type": "code",
   "execution_count": 6,
   "metadata": {},
   "outputs": [],
   "source": [
    "salary_by_yr_of_exp = defaultdict(list)\n",
    "for salary, year in salaries_and_yr_of_exp:\n",
    "    salary_by_yr_of_exp[year].append(salary)"
   ]
  },
  {
   "cell_type": "code",
   "execution_count": 7,
   "metadata": {},
   "outputs": [],
   "source": [
    "# keys are years, each value is average salary for that tenure\n",
    "average_salary_by_yr_of_exp = {\n",
    "year : sum(salaries) / len(salaries) for year, salaries in salary_by_yr_of_exp.items()\n",
    "}"
   ]
  },
  {
   "cell_type": "code",
   "execution_count": 8,
   "metadata": {},
   "outputs": [
    {
     "data": {
      "text/plain": [
       "[(8.7, 83000.0),\n",
       " (8.1, 88000.0),\n",
       " (0.7, 48000.0),\n",
       " (6, 76000.0),\n",
       " (6.5, 69000.0),\n",
       " (7.5, 76000.0),\n",
       " (2.5, 60000.0),\n",
       " (10, 83000.0),\n",
       " (1.9, 48000.0),\n",
       " (4.2, 63000.0)]"
      ]
     },
     "execution_count": 8,
     "metadata": {},
     "output_type": "execute_result"
    }
   ],
   "source": [
    "list(average_salary_by_yr_of_exp.items())"
   ]
  },
  {
   "cell_type": "markdown",
   "metadata": {},
   "source": [
    "### not useful because of continuous scale"
   ]
  },
  {
   "cell_type": "code",
   "execution_count": 9,
   "metadata": {},
   "outputs": [],
   "source": [
    "def year_bucket(year):\n",
    "    if year < 2:\n",
    "        return \"less than two\"\n",
    "    elif year < 5:\n",
    "        return \"between two and five\"\n",
    "    else:\n",
    "        return \"more than five\""
   ]
  },
  {
   "cell_type": "code",
   "execution_count": 10,
   "metadata": {},
   "outputs": [],
   "source": [
    "salary_by_year_bucket = defaultdict(list)\n",
    "for salary, year in salaries_and_yr_of_exp:\n",
    "    bucket = year_bucket(year)\n",
    "    salary_by_year_bucket[bucket].append(salary)"
   ]
  },
  {
   "cell_type": "code",
   "execution_count": 11,
   "metadata": {},
   "outputs": [],
   "source": [
    "average_salary_by_bucket = {\n",
    "year_bucket : sum(salaries) / len(salaries)\n",
    "for year_bucket, salaries in salary_by_year_bucket.items()\n",
    "}"
   ]
  },
  {
   "cell_type": "code",
   "execution_count": 12,
   "metadata": {},
   "outputs": [
    {
     "data": {
      "text/plain": [
       "[('more than five', 79166.66666666667),\n",
       " ('less than two', 48000.0),\n",
       " ('between two and five', 61500.0)]"
      ]
     },
     "execution_count": 12,
     "metadata": {},
     "output_type": "execute_result"
    }
   ],
   "source": [
    "list(average_salary_by_bucket.items())"
   ]
  },
  {
   "cell_type": "code",
   "execution_count": null,
   "metadata": {},
   "outputs": [],
   "source": []
  }
 ],
 "metadata": {
  "kernelspec": {
   "display_name": "Python 3",
   "language": "python",
   "name": "python3"
  },
  "language_info": {
   "codemirror_mode": {
    "name": "ipython",
    "version": 3
   },
   "file_extension": ".py",
   "mimetype": "text/x-python",
   "name": "python",
   "nbconvert_exporter": "python",
   "pygments_lexer": "ipython3",
   "version": "3.7.3"
  }
 },
 "nbformat": 4,
 "nbformat_minor": 2
}
